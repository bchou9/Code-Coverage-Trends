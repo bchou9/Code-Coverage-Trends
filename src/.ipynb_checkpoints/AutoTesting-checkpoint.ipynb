{
 "cells": [
  {
   "cell_type": "code",
   "execution_count": 1,
   "metadata": {},
   "outputs": [],
   "source": [
    "from collections import defaultdict\n",
    "from GrabReleaseCommits import *\n",
    "from StarHistory import *\n",
    "from GetRepoFromDataset import *\n",
    "from CodeCovReport import *\n",
    "import numpy as np"
   ]
  },
  {
   "cell_type": "code",
   "execution_count": 2,
   "metadata": {},
   "outputs": [
    {
     "name": "stdout",
     "output_type": "stream",
     "text": [
      "['github', 'facebook', 'react', False, True]\n",
      "['github', 'vuejs', 'vue', True, True]\n",
      "['github', 'trekhleb', 'javascript-algorithms', True, False]\n",
      "['github', 'twbs', 'bootstrap', False, True]\n",
      "['github', 'flutter', 'flutter', True, True]\n",
      "['github', 'Significant-Gravitas', 'AutoGPT', True, False]\n",
      "['github', 'airbnb', 'javascript', True, False]\n",
      "['github', 'huggingface', 'transformers', True, False]\n",
      "['github', 'avelino', 'awesome-go', False, True]\n",
      "['github', 'facebook', 'react-native', False, True]\n"
     ]
    },
    {
     "name": "stderr",
     "output_type": "stream",
     "text": [
      "\n",
      "KeyboardInterrupt\n",
      "\n"
     ]
    }
   ],
   "source": [
    "github_repos = filter_github_repos('../data/github-ranking-2024-02-15.csv')\n",
    "refinedRepo = list()\n",
    "for repo in github_repos:\n",
    "    username, repo_name, token = repo[0], repo[1], \"7848dd6f-5308-43f6-a02f-e10e31118854\"\n",
    "    repo_info = detect_coverage_tool_usage(\"github\", username, repo_name, token)\n",
    "    if repo_info != None:\n",
    "        print(repo_info)\n",
    "        refinedRepo.append(repo_info)\n",
    "\n",
    "print(refinedRepo)\n",
    "print(len(refinedRepo))"
   ]
  },
  {
   "cell_type": "code",
   "execution_count": 3,
   "metadata": {},
   "outputs": [],
   "source": [
    "Refined_DataSet = [['github', 'facebook', 'react', False, True], ['github', 'vuejs', 'vue', True, True], ['github', 'trekhleb', 'javascript-algorithms', True, None]]"
   ]
  },
  {
   "cell_type": "code",
   "execution_count": 4,
   "metadata": {
    "scrolled": true
   },
   "outputs": [
    {
     "name": "stdout",
     "output_type": "stream",
     "text": [
      "Repository URL: https://github.com/facebook/react\n",
      "Total Release Tags: 62\n",
      "Repository URL: https://github.com/vuejs/vue\n",
      "Total Release Tags: 144\n",
      "Repository URL: https://github.com/trekhleb/javascript-algorithms\n",
      "Total Release Tags: 0\n",
      "[['github', 'facebook', 'react', False, True, [['a54333842fff597986ec686ed46c91007e76fa18', '2013-07-17 11:25:30 fixed'], ['9125f68194cf99e55e027b6cc7ed34325c9855e4', '2014-02-16 17:35:10 fixed'], ['7f24943e5af5ee4b14ec002d45df315af94adb75', '2014-03-18 22:04:44 fixed'], ['0f9cec2e78c09e81dc3dac764788589a07903411', '2014-07-12 19:50:45 fixed'], ['2b4e35870b7a0c4d681bc3c86641790dd828f0a0', '2014-10-16 14:56:50 fixed'], ['06126ad3f4d063e89b3168abce79c9cd9961831c', '2015-02-22 12:08:30 fixed'], ['21b41480a531199ff48034c513288765950409d4', '2015-03-03 11:25:52 fixed'], ['b4e74e38e43ac53af8acd62c78c9213be0194245', '2015-07-03 10:28:21 fixed'], ['681bbb629fa80a67fa79ced11e5a4cad6c1878fe', '2015-07-30 21:29:09 fixed'], ['3f6bca7b1638ee940bb01989377abc9864edb6fe', '2015-08-03 14:24:24 fixed'], ['4a4174b9e8d1f554a5368da5df274746a8e332d1', '2015-09-10 08:39:03 fixed'], ['36796348f23c84b473d31a6bb53f587ad056cdef', '2016-03-07 16:23:08 fixed'], ['97038d1ff793e84bc402c57398294fb6cfdba8df', '2016-03-16 19:10:29 fixed'], ['ca4325e3eff16b86879188eb996ebcc9a933336a', '2017-02-23 15:36:08 fixed'], ['0d7b4d6dbacd3acd6632994c88d0603a9689caeb', '2017-03-13 08:54:41 fixed'], ['834d2c69546502c858c1a72a321ffd7efe5a7fac', '2017-07-26 12:55:31 fixed'], ['230d41218ec4d0160b91b5a32a3647a59fe4f1e6', '2017-08-03 16:05:28 fixed'], ['9ebd0c9e9a167f6cf30138a7b64c0c36d5bbbd11', '2017-08-08 09:08:17 fixed'], ['c3718c48f01fa6c2e04bd47226061769484c951b', '2017-08-08 10:25:25 fixed'], ['49c8d717a0d255ce926ac99101c35976644c7b23', '2017-09-06 15:43:22 fixed'], ['5c6ef4044610a2a325780261f41730a33a919f98', '2017-09-26 08:50:33 fixed'], ['1298e15f84c380a6ba144d83ae786c3aa6da267b', '2017-11-02 15:34:31 fixed'], ['a653f910f849b2f0ed699adf6136caa6b138d1eb', '2017-11-07 14:53:31 fixed'], ['17aa4d4682aa5c6fdbd3fb0d65e2d69769fe2d61', '2017-11-08 22:59:38 fixed'], ['7d9b4ba35ac3d45e798908540ca8ef131b20e72d', '2017-11-09 14:55:57 fixed'], ['1d3d791ca55f7b33364f9429372e62e01c90625a', '2017-11-09 15:04:27 fixed'], ['cc5534a66dff713052907ccfed98f87ae713bdd9', '2017-11-13 16:11:15 fixed'], ['edb2b3d3a70bbb6a26670673ac805df34ac23382', '2017-11-28 13:29:23 fixed'], ['885a291141330eb74e8a98316e286a9ad093f22c', '2018-02-02 13:01:34 fixed'], ['fb85cf2e9c52a4b2999144a89a6ee8256aec55c7', '2018-02-12 10:41:41 fixed'], ['ccec542ad348820e9a3c16d06f13586ab7c0fd59', '2018-03-14 13:26:40 fixed'], ['cafee5cb2f28431f130ab1a755f47c1ec9c9cc9c', '2018-03-22 12:45:10 fixed'], ['b3d883630cb6157cadf87495ebef4b6f322b4338', '2018-03-27 19:11:20 fixed'], ['8e3d94ffa1d2e19a5bf4b9f8030973b65b0fc854', '2018-03-29 13:07:12 fixed'], ['dc059579c3e56ca338a999b86d146d2341ee6f64', '2018-04-04 01:33:06 fixed'], ['32326163480b5028ee16f6b4e4ea4426f3c5e95c', '2018-04-16 16:23:13 fixed'], ['8765d608935a81ba5019f6cde6dce3367d392f0c', '2018-05-23 17:35:31 fixed'], ['9725065eb4054be5a223b16d28de0aeda91f4464', '2018-06-13 17:20:35 fixed'], ['71c0e05ba79e2e12556980ffbab264b41fdc19cd', '2018-09-06 09:34:27 fixed'], ['42d12317a794b4ba89a6a6d16302f66cb370be91', '2018-09-17 15:05:46 fixed'], ['bec2ddaf157497ddca85e823e180536d8154a52f', '2018-09-18 11:30:50 fixed'], ['c73497c3c746dfcc19754fc1fe055aefb495ee21', '2018-10-10 17:19:00 fixed'], ['8b97a9c36f2ef7d2c570b25e988b8ca832d9b436', '2018-10-23 16:29:35 fixed'], ['ba19844236ab61e22b6e8f80f5134ae33a2792e5', '2018-11-06 18:28:50 fixed'], ['88ada98198b22d2b8cd056cfba5ffb113c6a50d3', '2018-11-28 13:56:45 fixed'], ['4a1072194fcef2da1aae2510886c274736017fbd', '2018-12-14 11:03:23 fixed'], ['d1326f466a24f2b9e09115ed1a3ddd9de2ad2e06', '2019-02-05 17:34:21 fixed'], ['dfabb77a97141baf07cfdad620949874e36516d7', '2019-02-14 17:21:27 fixed'], ['a450a23e318c5a8fcba5a52c8fdc2e23584650b3', '2019-03-29 08:53:39 fixed'], ['92a1d8feac32d03ab5ea6ac13ae4941f6ae93b54', '2019-04-03 17:22:51 fixed'], ['a1dbb852c29d23d5d0b76a0171eb59df4bebf684', '2019-08-05 21:01:05 fixed'], ['3694a3b5e9a5a3c80d47f9889a17d8337573d513', '2019-09-25 15:26:27 fixed'], ['5faf377df5267c4248599e14311a75c2f46050c0', '2019-10-21 15:08:55 fixed'], ['b53ea6ca05d2ccb9950b40b33f74dfee0421d872', '2019-11-12 10:41:07 fixed'], ['c1c5499cc3fd179004911b3391a55de1af4de037', '2020-02-26 20:33:29 fixed'], ['8b155d261368afb1fe93219278b581a1032ea1d7', '2020-03-11 19:38:23 fixed'], ['aae83a4b9a0cfd75f5d5e7ee776c5e92e55cc2c3', '2020-03-17 17:56:14 fixed'], ['d7382b6c43b63ce15ce091cf13db8cd1f3c4b7ae', '2020-03-30 11:25:04 fixed'], ['27659559ebfd6b7119bfc0ff02ecb851c135020c', '2021-01-04 07:46:20 fixed'], ['34aa5cfe0d9b6ec4667e02bf46ab34d83dfb2d6d', '2022-03-29 12:04:56 fixed'], ['22edb9f777d27369fd2c1fad378f74e237b6dfd3', '2022-04-26 16:28:48 fixed'], ['9e3b772b8cabbd8cadc7522ebe3dde3279e79d9e', '2022-06-08 16:59:49 fixed']]], ['github', 'vuejs', 'vue', True, True, [['bffb9d1ceafded186beeec8bf62c14b728ee71f7', '2016-06-10 19:23:32 fixed'], ['efa3fc746aa01e5cafc4164dbc005eb476369399', '2016-06-13 19:36:47 fixed'], ['5c3e208cf8a94a9c7e04e3d33b7ad7db6e7377e5', '2016-06-15 14:22:40 fixed'], ['7c90dc9be32a81b7ec5b6728007a8b8f3f101a76', '2016-06-16 13:00:55 fixed'], ['59230fee0edf3b755ea6989e255c248bda2be75d', '2016-06-17 14:22:51 fixed'], ['dcd82c2429ad5bceddd2e8a8e692a56ff3f12619', '2016-06-22 15:33:54 fixed'], ['a3e26ac9417d38a43171e9fe905d3d065664b1fb', '2016-06-27 22:25:13 fixed'], ['8592151110f3031df7a06c37281ce4216963b9c8', '2016-06-28 05:03:11 fixed'], ['ed3f3958b135ed7a9882042a653419cc14213630', '2016-07-07 17:53:22 fixed'], ['bd583371ecb753bbf986f450f6a4f3d0f65a3f32', '2016-07-17 01:53:45 fixed'], ['2288f3eab7af38f8832455c060d99f44f66aab06', '2016-07-23 22:48:10 fixed'], ['88c3f4b937c0151cbde19cb4187b0834faf4d266', '2016-07-25 22:07:27 fixed'], ['9cbe4a31665c6ef47baad2aed62b0da89e0cc72b', '2016-07-27 00:25:41 fixed'], ['fd3377d1a9b962c558bdac2125664888c93aa143', '2016-08-01 15:31:13 fixed'], ['c2c68d6a22de1f633a18c62eab46938eed917f2f', '2016-08-05 18:14:22 fixed'], ['1cde06b7723a1c5870ae5d2fca536e515e647487', '2016-08-10 00:55:30 fixed'], ['7b42671f04aa1de342d85178419fac8fa5eb6eaf', '2016-08-11 00:43:09 fixed'], ['e422a98150806d9dde395b3398be42ae3d3bb85e', '2016-08-15 23:39:07 fixed'], ['8d03a452de61634428923a4dabbd22c24b91f3b3', '2016-08-20 14:04:54 fixed'], ['8c427f7f18d34bca8e2860788d0849bee26d4bb9', '2016-08-29 15:49:00 fixed'], ['84dfc1d99c2b42f28d238bed8a46d02c47c8aa10', '2016-09-08 13:29:48 fixed'], ['43211fd519f462af2530556d905b38d942f61294', '2016-09-13 09:21:02 fixed'], ['08f2b97083d32b8c3fe035d770dddfc19de49a7e', '2016-09-23 18:24:50 fixed'], ['e6154316daf62c43c997e4334be7a52b57881709', '2016-09-27 17:08:28 fixed'], ['156cfb9892d3359d548e27abf5d8b78b421a5a92', '2016-09-30 14:32:01 fixed'], ['e6d224c3c5ca3ff6a365326ba615d116764b68f2', '2016-09-30 17:12:01 fixed'], ['70aee1c7f8f6aab359492909d41f1e0449771506', '2016-10-12 00:54:07 fixed'], ['3bbac7e9f5beb86dbb023edbb043bdea501c98d3', '2016-10-13 05:27:28 fixed'], ['0973342e5cadaa68c21535cb9e62f27fd5493e2c', '2016-11-04 16:47:03 fixed'], ['a2cc6e2b68239460d1c27f9af8b2165594f8ab00', '2016-11-04 23:47:26 fixed'], ['fd83358c97d16eba6d53ceb2a8528bbc3376afd0', '2016-11-15 18:05:02 fixed'], ['cd0e37361227b9b6f34e88dda3f4934c3932014d', '2016-11-16 16:54:25 fixed'], ['9fa4bbbc04f17fe278b280a99225077836d692ec', '2016-11-19 22:14:59 fixed'], ['f4647b01f8340eb0d21d14f4fc1a720855fee3d5', '2016-11-22 11:15:07 fixed'], ['adf33c18eb1e24676af22d85d072fe6bfa83c99c', '2016-11-23 16:00:42 fixed'], ['9e5d882bd2e40e9593f76ae557e6060e0319fd40', '2016-11-23 18:42:05 fixed'], ['c32ea056a552ac792dcb52bd22cb19dba761c229', '2016-11-23 19:22:03 fixed'], ['a8f41399ef7538176f8207af7b6a1180f3a13505', '2016-12-01 22:01:19 fixed'], ['68abdc3c3c86e01089c32b434e662dc15a3a9eda', '2016-12-12 22:09:29 fixed'], ['57f425ef1d1d5ddc89e2a9d2bbe4cfd9554fddbc', '2016-12-13 12:22:28 fixed'], ['c803fbbca02d9437ab5dc04316ab6f290a6bd16d', '2016-12-24 11:36:17 fixed'], ['17be581cf033273f3e57cf2b899cf055fcb36ba3', '2016-12-28 00:54:35 fixed'], ['80a7ceace62f1d9c5a9b93182aacc0b35cef1115', '2017-01-16 18:48:07 fixed'], ['994aee4f869d68a00c3b9d87daa9c8d84623ac42', '2017-01-17 12:17:12 fixed'], ['7775da259dbf594a18c1e3a38383bac3caf1e47b', '2017-02-23 23:22:21 fixed'], ['36810163386dd4f2690d8d1c4b1016f17e467e2d', '2017-02-24 19:01:10 fixed'], ['2a19f911dc8631d44b7c7e63c4db57ef28ac5e69', '2017-02-25 23:28:15 fixed'], ['3b241b0088d8b40b3e551f76fa031910dcbd42a7', '2017-02-26 08:10:51 fixed'], ['d0b8dce4a6cbcce1aed1912ab12b20c858edd729', '2017-03-09 10:32:39 fixed'], ['d185dd294c99fc01fd6521201f3362ba41e75060', '2017-03-13 16:07:59 fixed'], ['2343b908c2f8d0b3d9ea762af6f5b85a540eddd7', '2017-03-13 23:08:09 fixed'], ['c0ad75beeb5bf5e7679221b679fbdd13e0d945bb', '2017-03-24 12:53:32 fixed'], ['0cebdf55ab645001a7c8c80381ab27e03ced5c7c', '2017-03-27 10:46:09 fixed'], ['3a6fd13bc5c1c900774f759f200e064d60861b96', '2017-04-26 18:32:31 fixed'], ['a27c464692c83c3c953e76baaa0e51dc88e4a14a', '2017-04-27 14:22:09 fixed'], ['6b4f3da51dbac0c7f06411907c8d8435b630d5b2', '2017-05-02 15:58:53 fixed'], ['b977c77d344cb1fc63a3daa50a4b96ef70e77ec5', '2017-05-02 18:29:59 fixed'], ['8d56a498f3d95660e2cafff4ed3c1e1da23494d1', '2017-05-10 00:57:08 fixed'], ['ac3d1eaea34ee23978d395a84f68154e7e86caa1', '2017-07-13 13:58:37 fixed'], ['381b48503aae796c5c21c318cae8b0a8322dde35', '2017-07-13 14:40:23 fixed'], ['b8f1bcd96c73251f46726cfc5393bb9999ae259d', '2017-07-21 00:28:41 fixed'], ['0a7ffb148c38848cb9f59a38b101abdec863f490', '2017-09-13 03:57:30 fixed'], ['94512f3e8cee4030a1096121700ed49afab48073', '2017-09-14 11:32:41 fixed'], ['0948d999f2fddf9f90991956493f976273c5da1f', '2017-10-12 23:07:14 fixed'], ['f865b0d7678beb70765ec8fd560008bebb51b923', '2017-10-13 10:14:32 fixed'], ['471de4a31d229e681cc9dce18632b5bcab944c77', '2017-10-13 16:21:00 fixed'], ['2acc12c9edb03329c4d9cddcca26e46c672a77bc', '2017-11-03 17:11:29 fixed'], ['a2cd14c765cfb1f881f34911d4fd0540feb09cce', '2017-11-16 14:53:23 fixed'], ['06f121b4735e8c70306c744419287592af295eac', '2017-11-17 11:36:55 fixed'], ['b2781205b0271a9b59afe0c816b41c6dbe85f0a3', '2017-11-18 14:44:01 fixed'], ['f9f74231a2e064861856396f57dc980a6de376e9', '2017-11-20 14:49:24 fixed'], ['b0bbcbd152782bcc8d5ad5e9c9e5842e1daf1afb', '2017-11-21 09:42:18 fixed'], ['d4e0c3ef2444384719638a89f2a25af042b95795', '2017-11-27 12:43:32 fixed'], ['a5924a53369ec7c04f0638148f60324652c126eb', '2017-12-12 18:16:40 fixed'], ['9c01684762445c822956f5764400d14384804db6', '2017-12-14 11:56:02 fixed'], ['ec2c48cfd58d2e82d37928af533d5d5bfa30b5c4', '2017-12-19 09:54:15 fixed'], ['d982e344b39391fe91b6dd91d51b2f0310a45e77', '2017-12-19 14:06:52 fixed'], ['387d2567ebec83db47d2049eec006a1ffc83451a', '2018-03-09 16:41:47 fixed'], ['af5453cd5e90461531f1711b5ecb6bd47136e7b0', '2018-03-10 18:36:42 fixed'], ['25342194016dc3bcc81cb3e8e229b0fb7ba1d1d6', '2018-03-13 18:14:20 fixed'], ['19552a82a636910f4595937141557305ab5d434e', '2018-03-23 19:29:02 fixed'], ['e8031b4e68a060d4e559ec62f4350987e06dee9a', '2018-12-02 16:13:36 fixed'], ['dadc918c05ff96063eb9f6c48c126db71758213b', '2018-12-07 16:09:08 fixed'], ['628c1b7f5b298e13975d880c73e8fc2893628c2e', '2018-12-09 16:26:02 fixed'], ['77d406b2a49b286fe6587305fabcf0796db19ab1', '2018-12-10 11:57:04 fixed'], ['70754084ec2d84e44effeb8f82efda3397a08b0d', '2018-12-11 17:52:21 fixed'], ['99343f9b48048c459c2021d25d25a8cbc86d2f32', '2019-01-11 18:18:31 fixed'], ['732bf878c1f8b60e075990ec490977758d4fb886', '2019-01-16 11:21:07 fixed'], ['624c79930ad2e9b0cfff8853f5629383b8d59b3a', '2019-01-25 23:38:40 fixed'], ['7721febcc3c0594af0abc25fa32d72d63a52942f', '2019-01-30 09:59:37 fixed'], ['85548310f19975745c83ac173f700f8b2f1e8e3e', '2019-02-04 10:57:04 fixed'], ['1a6f7a576c5359d3f86ceaf080e4e72cbeba030a', '2019-02-04 17:51:36 fixed'], ['ee9b684d0bca0c6260092b98ac81d739d35a1587', '2019-02-04 22:52:44 fixed'], ['f9c83087cc73697300c4587283f197d84065d4ae', '2019-02-06 16:52:07 fixed'], ['c1989500450c06cde7750850c87a6082c0725b54', '2019-02-08 16:44:50 fixed'], ['11deaa932eb51e9af11fd32e72c8cab3cd55ec67', '2019-02-11 00:14:34 fixed'], ['a702d1947b856cf3b9d6ca5fb27b2271a78a9a5b', '2019-02-11 23:20:09 fixed'], ['59d8579fbd3a3450ab684d6a596f1853f2257d08', '2019-02-21 17:06:20 fixed'], ['d123c7e4c67cb17c265f3a4f741fae71b69f5dc9', '2019-03-01 10:03:38 fixed'], ['43115e09e98d484a35f7c12249396b6d5d66c7ff', '2019-03-14 17:02:03 fixed'], ['e90cc60c4718a69e2c919275a999b7370141f3bf', '2019-03-20 14:26:44 fixed'], ['ec78fc8b6d03e59da669be1adf4b4b5abf670a34', '2019-12-13 14:58:40 fixed'], ['bb253db0b3e17124b6d1fe93fbf2db35470a1347', '2020-08-20 09:10:59 fixed'], ['18660336a05f667927c5ed5117771d13984ff7b0', '2021-06-01 16:28:48 fixed'], ['612fb89547711cacb030a3893a0065b785802860', '2021-06-07 11:55:28 fixed'], ['45b932b6e554b41599f034b347a8175efd69da88', '2022-05-31 17:57:37 fixed'], ['7ec896827f82cfb410f79aa709e4186a911bf995', '2022-06-01 10:37:17 fixed'], ['5fbf2c99285664196694ecbcfd4db1f1e816813e', '2022-06-01 11:13:29 fixed'], ['4dc0c6c4db6ccad28c414f165412b8e744a525bb', '2022-06-01 22:19:32 fixed'], ['9ce105aa10be6288e6ce9d26c1a5a6d16fee733b', '2022-06-06 15:33:20 fixed'], ['5d4c59be11ecc1b1c1e4fe2bbf5c9ffb77da9960', '2022-06-09 14:47:01 fixed'], ['2ddd25926eb3abb2f70fad3e4d81348f63e15e74', '2022-06-14 23:28:58 fixed'], ['b6b5239e6656f2dba386dcaf1c4a2543fc9962b6', '2022-06-14 23:46:46 fixed'], ['5a0cc58b91f64f8f2f6088a456f0cf3a0a8f0be2', '2022-06-16 10:36:19 fixed'], ['fa2115c0310037aa09d968de7f3bc604c53d343f', '2022-06-16 17:18:28 fixed'], ['ac8882715cbdfd44c00066f65a2ff3557eb279f7', '2022-06-16 17:53:41 fixed'], ['96cd1d03fd8da5bcc975b82d39ce69383c1de0ab', '2022-06-16 21:52:59 fixed'], ['b2332faf04dc3cabd8dee2fdc53ced99441b87ed', '2022-06-17 09:57:51 fixed'], ['9b4e179873640389c1c3956d63f27b2f43ff9179', '2022-06-17 10:57:11 fixed'], ['de03f69cd6780272e351efed743585ccf110be19', '2022-06-20 16:34:23 fixed'], ['a122bd25c3c453c91a7f35b54b2c75df8b0b1f24', '2022-06-21 10:51:19 fixed'], ['530b56a36e4689249dce6eba6e5c50e3305346f4', '2022-06-22 10:22:49 fixed'], ['20e7e7e138070a2f0c85f64529c837f00255da1c', '2022-06-26 16:41:54 fixed'], ['bf64c4da5ca516924d940bb29f3e59b0fa5863c9', '2022-06-27 15:00:30 fixed'], ['0ea6c366f5770f016183513792fce8765df47739', '2022-06-28 10:00:08 fixed'], ['1e3a0ceb26025868fa8ea9347c897b09307f58c2', '2022-07-01 12:22:26 fixed'], ['427028ad89a67b34006066c294ae0a3840a6403b', '2022-07-04 18:38:35 fixed'], ['e244687135dcd0fd55ad0423d5d5fbf2ba389c4e', '2022-07-05 10:54:47 fixed'], ['15e6f1dee47ea38af0ad541014e91df0ad9b062f', '2022-07-06 13:16:22 fixed'], ['018d29af5fa171b2d2f4793c5d471f21bb7cd1e7', '2022-07-08 15:46:21 fixed'], ['cdd2df6171963096abb94600987f1706e40d2ab6', '2022-07-13 11:08:37 fixed'], ['7d4a7722e3a8bc52a0a9b9660b75efa2ff479f39', '2022-07-15 17:12:28 fixed'], ['fc16281cf5bd1506e8cfe62eee1ef02dac82bad5', '2022-07-16 22:45:31 fixed'], ['1d8b892fcd9edcef1feeed74ad586beabb9f6df2', '2022-07-22 11:24:39 fixed'], ['15618888cb6aae2b6f0151b32c261b1fc19db1b8', '2022-08-19 12:27:12 fixed'], ['ee57d9fd1d51abe245c6c37e6f8f2d45977b929e', '2022-08-23 09:29:42 fixed'], ['c61395d3f1ed926d2783d8460970ed20ea01dc4f', '2022-10-11 19:13:06 fixed'], ['4cad41007174a7eeebf4472ddbd7b3b693db03f1', '2022-10-12 21:41:36 fixed'], ['df281b0e4c400be18df8bcf4e83df8b25a81e21b', '2022-10-14 11:41:56 fixed'], ['9dd006b481b4299462e044741bac0861c0b1775c', '2022-11-09 20:39:52 fixed'], ['81598ea2f3bdbc81ae50f2fa9b9e547efc6b6261', '2023-10-23 15:55:40 fixed'], ['73bdf14ef5c9979dcba18ede3410515cecbe2f2f', '2023-12-08 09:42:01 fixed'], ['305e4ae9dce0a05a422b675ff555f17878e86063', '2023-12-14 09:28:08 fixed'], ['13f4e7dc03e2caed900ac70ff8b8fe58dda45663', '2023-12-24 23:02:07 fixed']]]]\n"
     ]
    }
   ],
   "source": [
    "# Get the commit sha's for each repository.\n",
    "\n",
    "release_tag_commits = []\n",
    "\n",
    "for repo in Refined_DataSet:\n",
    "    platform, username, repo_name, codecov_used, coverall_used = repo[0], repo[1], repo[2], repo[3], repo[4]\n",
    "    sha_list = retrieve_commit_hashes(username, repo_name)\n",
    "    \n",
    "    if(len(sha_list) > 0):\n",
    "        release_tag_commits.append([platform, username, repo_name, codecov_used, coverall_used, sha_list])\n",
    "    \n",
    "#     for commit in sha_list:\n",
    "#         sha_hash, commit_date = commit[0], commit[1]\n",
    "#         release_tag_commits.append([sha_hash, commit_date])\n",
    "        \n",
    "print(release_tag_commits)"
   ]
  },
  {
   "cell_type": "code",
   "execution_count": 5,
   "metadata": {},
   "outputs": [
    {
     "name": "stdout",
     "output_type": "stream",
     "text": [
      "62\n",
      "144\n",
      "[['github', 'facebook', 'react', False, True, [['b4e74e38e43ac53af8acd62c78c9213be0194245', '2015-07-03 10:28:21 fixed'], ['0d7b4d6dbacd3acd6632994c88d0603a9689caeb', '2017-03-13 08:54:41 fixed'], ['5c6ef4044610a2a325780261f41730a33a919f98', '2017-09-26 08:50:33 fixed'], ['edb2b3d3a70bbb6a26670673ac805df34ac23382', '2017-11-28 13:29:23 fixed'], ['dc059579c3e56ca338a999b86d146d2341ee6f64', '2018-04-04 01:33:06 fixed'], ['c73497c3c746dfcc19754fc1fe055aefb495ee21', '2018-10-10 17:19:00 fixed'], ['dfabb77a97141baf07cfdad620949874e36516d7', '2019-02-14 17:21:27 fixed'], ['c1c5499cc3fd179004911b3391a55de1af4de037', '2020-02-26 20:33:29 fixed'], ['9e3b772b8cabbd8cadc7522ebe3dde3279e79d9e', '2022-06-08 16:59:49 fixed']]], ['github', 'vuejs', 'vue', True, True, [['7b42671f04aa1de342d85178419fac8fa5eb6eaf', '2016-08-11 00:43:09 fixed'], ['9fa4bbbc04f17fe278b280a99225077836d692ec', '2016-11-19 22:14:59 fixed'], ['d0b8dce4a6cbcce1aed1912ab12b20c858edd729', '2017-03-09 10:32:39 fixed'], ['f865b0d7678beb70765ec8fd560008bebb51b923', '2017-10-13 10:14:32 fixed'], ['25342194016dc3bcc81cb3e8e229b0fb7ba1d1d6', '2018-03-13 18:14:20 fixed'], ['11deaa932eb51e9af11fd32e72c8cab3cd55ec67', '2019-02-11 00:14:34 fixed'], ['2ddd25926eb3abb2f70fad3e4d81348f63e15e74', '2022-06-14 23:28:58 fixed'], ['e244687135dcd0fd55ad0423d5d5fbf2ba389c4e', '2022-07-05 10:54:47 fixed'], ['13f4e7dc03e2caed900ac70ff8b8fe58dda45663', '2023-12-24 23:02:07 fixed']]]]\n"
     ]
    }
   ],
   "source": [
    "#Now refine from release_tag_commits to only have the latest 10 release commits for each repo.\n",
    "def refine_sha_from_repo(commit_sha_list, num_of_releases):\n",
    "    sha_list_length = len(commit_sha_list)\n",
    "    print(sha_list_length)\n",
    "    \n",
    "    index_list = np.round(np.linspace(0, sha_list_length - 1, num_of_releases)).astype(int)\n",
    "    \n",
    "    refined_sha_list = []\n",
    "    \n",
    "    for index in index_list:\n",
    "        if(index > 0):\n",
    "            refined_sha_list.append(commit_sha_list[index])\n",
    "    \n",
    "    return refined_sha_list\n",
    "    \n",
    "num_of_releases = 10\n",
    "repo_with_ten_releases = []\n",
    "\n",
    "for repo in release_tag_commits:\n",
    "    platform, username, repo_name, codecov_used, coverall_used = repo[0], repo[1], repo[2], repo[3], repo[4]\n",
    "    commit_sha_list = repo[5]\n",
    "    refined_sha_list = refine_sha_from_repo(commit_sha_list, num_of_releases)\n",
    "    repo_with_ten_releases.append([platform, username, repo_name, codecov_used, coverall_used, refined_sha_list])\n",
    "print(repo_with_ten_releases)"
   ]
  },
  {
   "cell_type": "code",
   "execution_count": 17,
   "metadata": {
    "scrolled": false
   },
   "outputs": [
    {
     "name": "stdout",
     "output_type": "stream",
     "text": [
      "https://api.codecov.io/api/v2/github/vuejs/repos/vue/commits/\n",
      "http://api.codecov.io/api/v2/github/vuejs/repos/vue/commits/?page=2\n",
      "http://api.codecov.io/api/v2/github/vuejs/repos/vue/commits/?page=3\n",
      "http://api.codecov.io/api/v2/github/vuejs/repos/vue/commits/?page=4\n",
      "http://api.codecov.io/api/v2/github/vuejs/repos/vue/commits/?page=5\n",
      "http://api.codecov.io/api/v2/github/vuejs/repos/vue/commits/?page=6\n",
      "http://api.codecov.io/api/v2/github/vuejs/repos/vue/commits/?page=7\n",
      "http://api.codecov.io/api/v2/github/vuejs/repos/vue/commits/?page=8\n",
      "http://api.codecov.io/api/v2/github/vuejs/repos/vue/commits/?page=9\n",
      "http://api.codecov.io/api/v2/github/vuejs/repos/vue/commits/?page=10\n",
      "codecov, vuejs/vue, 97.28%, f9c83087cc73697300c4587283f197d84065d4ae, 2019-02-06T21:52:07Z\n"
     ]
    },
    {
     "data": {
      "text/plain": [
       "True"
      ]
     },
     "execution_count": 17,
     "metadata": {},
     "output_type": "execute_result"
    }
   ],
   "source": [
    "#[[platform, username, repo_name, codecov_used, coverall_used, [sha_list]], [...], ...]\n",
    "codecov_API_token = \"7848dd6f-5308-43f6-a02f-e10e31118854\"\n",
    "#7a7e792a6fd7668b37e475bf39e58fdb24e4ad81\n",
    "#display_coverall_build(platform, username, repo_name, \"787b343f674c72837209bdffd55c59682910d807\")\n",
    "display_codecov_build(\"github\", \"vuejs\", \"vue\", codecov_API_token, \"f9c83087cc73697300c4587283f197d84065d4ae\")\n",
    "# for repo in repo_with_ten_releases:\n",
    "#     platform, username, repo_name, codecov_used, coverall_used = repo[0], repo[1], repo[2], repo[3], repo[4]\n",
    "#     commit_sha_list = repo[5]\n",
    "    \n",
    "#     for sha_value in commit_sha_list:\n",
    "#         if(codecov_used):\n",
    "#             display_codecov_build(platform, username, repo_name, codecov_API_token, sha_value)\n",
    "#         if(coverall_used):\n",
    "#             display_coverall_build(platform, username, repo_name, sha_value)"
   ]
  },
  {
   "cell_type": "code",
   "execution_count": null,
   "metadata": {},
   "outputs": [],
   "source": []
  }
 ],
 "metadata": {
  "kernelspec": {
   "display_name": "Python 3 (ipykernel)",
   "language": "python",
   "name": "python3"
  },
  "language_info": {
   "codemirror_mode": {
    "name": "ipython",
    "version": 3
   },
   "file_extension": ".py",
   "mimetype": "text/x-python",
   "name": "python",
   "nbconvert_exporter": "python",
   "pygments_lexer": "ipython3",
   "version": "3.11.5"
  }
 },
 "nbformat": 4,
 "nbformat_minor": 2
}
