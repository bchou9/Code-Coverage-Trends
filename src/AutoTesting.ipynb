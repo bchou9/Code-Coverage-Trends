{
 "cells": [
  {
   "cell_type": "code",
   "execution_count": 1,
   "metadata": {},
   "outputs": [],
   "source": [
    "from collections import defaultdict\n",
    "from GrabReleaseCommits import *\n",
    "from StarHistory import *\n",
    "from GetRepoFromDataset import *\n",
    "from CodeCovReport import *"
   ]
  },
  {
   "cell_type": "code",
   "execution_count": null,
   "metadata": {},
   "outputs": [],
   "source": [
    "github_repos = filter_github_repos('../data/github-ranking-2024-02-15.csv')\n",
    "refinedRepo = list()\n",
    "for repo in github_repos:\n",
    "    username, repo_name, token = repo[0], repo[1], \"7848dd6f-5308-43f6-a02f-e10e31118854\"\n",
    "    repo_info = detect_coverage_tool_usage(\"github\", username, repo_name, token)\n",
    "    if repo_info != None:\n",
    "        print(repo_info)\n",
    "        refinedRepo.append(repo_info)\n",
    "\n",
    "print(refinedRepo)\n",
    "print(len(refinedRepo))"
   ]
  },
  {
   "cell_type": "code",
   "execution_count": null,
   "metadata": {},
   "outputs": [],
   "source": [
    "Refined_DataSet = [['github', 'facebook', 'react', False, True], ['github', 'vuejs', 'vue', True, True], ['github', 'trekhleb', 'javascript-algorithms', True, None]]"
   ]
  },
  {
   "cell_type": "code",
   "execution_count": null,
   "metadata": {},
   "outputs": [],
   "source": []
  },
  {
   "cell_type": "code",
   "execution_count": null,
   "metadata": {},
   "outputs": [],
   "source": []
  }
 ],
 "metadata": {
  "kernelspec": {
   "display_name": "Python 3",
   "language": "python",
   "name": "python3"
  },
  "language_info": {
   "codemirror_mode": {
    "name": "ipython",
    "version": 3
   },
   "file_extension": ".py",
   "mimetype": "text/x-python",
   "name": "python",
   "nbconvert_exporter": "python",
   "pygments_lexer": "ipython3",
   "version": "3.11.3"
  }
 },
 "nbformat": 4,
 "nbformat_minor": 2
}
